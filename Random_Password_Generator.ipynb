{
  "nbformat": 4,
  "nbformat_minor": 0,
  "metadata": {
    "colab": {
      "provenance": []
    },
    "kernelspec": {
      "name": "python3",
      "display_name": "Python 3"
    },
    "language_info": {
      "name": "python"
    }
  },
  "cells": [
    {
      "cell_type": "code",
      "source": [],
      "metadata": {
        "id": "z4BbOZ87zUJ1"
      },
      "execution_count": null,
      "outputs": []
    },
    {
      "cell_type": "code",
      "execution_count": 2,
      "metadata": {
        "colab": {
          "base_uri": "https://localhost:8080/"
        },
        "id": "1pRmvdNnxBdt",
        "outputId": "a442dab8-b106-4b6f-abba-4eabc52f3fc3"
      },
      "outputs": [
        {
          "output_type": "stream",
          "name": "stdout",
          "text": [
            "Welcome to the Random Password Generator!\n",
            "Enter the length of the password: 8\n",
            "Include letters? (y/n): y\n",
            "Include numbers? (y/n): y\n",
            "Include symbols? (y/n): y\n",
            "Your generated password is: GOxq(ksz\n",
            "Do you like this password? (y/n): n\n",
            "Generating a new password...\n",
            "Enter the length of the password: 8\n",
            "Include letters? (y/n): y\n",
            "Include numbers? (y/n): y\n",
            "Include symbols? (y/n): y\n",
            "Your generated password is: [sWn<~M<\n",
            "Do you like this password? (y/n): y\n",
            "Thank you for using the Random Password Generator!\n"
          ]
        }
      ],
      "source": [
        "import random\n",
        "import string\n",
        "\n",
        "def generate_password(length, use_letters=True, use_numbers=True, use_symbols=True):\n",
        "    characters = ''\n",
        "    if use_letters:\n",
        "        characters += string.ascii_letters\n",
        "    if use_numbers:\n",
        "        characters += string.digits\n",
        "    if use_symbols:\n",
        "        characters += string.punctuation\n",
        "\n",
        "    if not characters:\n",
        "        print(\"Error: Please select at least one character type.\")\n",
        "        return None\n",
        "\n",
        "    password = ''.join(random.choice(characters) for _ in range(length))\n",
        "    return password\n",
        "\n",
        "def main():\n",
        "    print(\"Welcome to the Random Password Generator!\")\n",
        "\n",
        "    while True:\n",
        "        length = int(input(\"Enter the length of the password: \"))\n",
        "        use_letters = input(\"Include letters? (y/n): \").lower() == 'y'\n",
        "        use_numbers = input(\"Include numbers? (y/n): \").lower() == 'y'\n",
        "        use_symbols = input(\"Include symbols? (y/n): \").lower() == 'y'\n",
        "\n",
        "        password = generate_password(length, use_letters, use_numbers, use_symbols)\n",
        "\n",
        "        if password:\n",
        "            print(\"Your generated password is:\", password)\n",
        "            regenerate = input(\"Do you like this password? (y/n): \").lower()\n",
        "            if regenerate != 'y':\n",
        "                print(\"Generating a new password...\")\n",
        "                continue\n",
        "        else:\n",
        "            print(\"Please try again.\")\n",
        "\n",
        "        break\n",
        "\n",
        "    print(\"Thank you for using the Random Password Generator!\")\n",
        "\n",
        "if __name__ == \"__main__\":\n",
        "    main()"
      ]
    }
  ]
}