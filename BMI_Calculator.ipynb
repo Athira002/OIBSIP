{
  "nbformat": 4,
  "nbformat_minor": 0,
  "metadata": {
    "colab": {
      "provenance": []
    },
    "kernelspec": {
      "name": "python3",
      "display_name": "Python 3"
    },
    "language_info": {
      "name": "python"
    }
  },
  "cells": [
    {
      "cell_type": "code",
      "execution_count": null,
      "metadata": {
        "id": "f9gaWBTChh9x"
      },
      "outputs": [],
      "source": [
        "#BMI(Body Mass Index)Calculator"
      ]
    },
    {
      "cell_type": "code",
      "source": [
        "#BMI=Weight(in kg)/(Height(in m)^2)"
      ],
      "metadata": {
        "id": "A7VW_BUOigHt"
      },
      "execution_count": null,
      "outputs": []
    },
    {
      "cell_type": "code",
      "source": [
        "def bmi_calculate(weight,height):\n",
        "  bmi=weight/(height**2)\n",
        "  return bmi"
      ],
      "metadata": {
        "id": "CP2LrihgiwR_"
      },
      "execution_count": null,
      "outputs": []
    },
    {
      "cell_type": "code",
      "source": [
        "def bmi_category(bmi):\n",
        "  if bmi<18.5:\n",
        "    return \"Underweight\"\n",
        "  elif 18.5<=bmi<24.9:\n",
        "    return \"Normal Weight\"\n",
        "  elif 25<=bmi<29.9:\n",
        "    return \"Overweight\"\n",
        "  else:\n",
        "    return \"Obesity\""
      ],
      "metadata": {
        "id": "0ATAOwr_jOXn"
      },
      "execution_count": null,
      "outputs": []
    },
    {
      "cell_type": "code",
      "source": [
        "#Input from the user\n",
        "weight=float(input(\"Enter your weight in kg:\"))\n",
        "height=float(input(\"Enter your height in m:\"))\n"
      ],
      "metadata": {
        "colab": {
          "base_uri": "https://localhost:8080/"
        },
        "id": "L5TaKEw7kIRo",
        "outputId": "fe27a5e5-c048-4b17-e714-b6cc3a09b803"
      },
      "execution_count": null,
      "outputs": [
        {
          "name": "stdout",
          "output_type": "stream",
          "text": [
            "Enter your weight in kg:64\n",
            "Enter your height in m:1.64\n"
          ]
        }
      ]
    },
    {
      "cell_type": "code",
      "source": [
        "#Calculate BMI\n",
        "bmi=bmi_calculate(weight,height)\n",
        "bmi"
      ],
      "metadata": {
        "colab": {
          "base_uri": "https://localhost:8080/"
        },
        "id": "-4UYAXhwki7y",
        "outputId": "99cec914-5909-422e-b31c-5a7ca2ec26a8"
      },
      "execution_count": null,
      "outputs": [
        {
          "output_type": "execute_result",
          "data": {
            "text/plain": [
              "23.795359904818564"
            ]
          },
          "metadata": {},
          "execution_count": 7
        }
      ]
    },
    {
      "cell_type": "code",
      "source": [
        "#Determine BMI category\n",
        "category=bmi_category(bmi)\n",
        "category"
      ],
      "metadata": {
        "colab": {
          "base_uri": "https://localhost:8080/",
          "height": 35
        },
        "id": "6bTUoULKkylk",
        "outputId": "98d4b377-e0cf-420e-d213-5e88ebc2c3b3"
      },
      "execution_count": null,
      "outputs": [
        {
          "output_type": "execute_result",
          "data": {
            "text/plain": [
              "'Normal Weight'"
            ],
            "application/vnd.google.colaboratory.intrinsic+json": {
              "type": "string"
            }
          },
          "metadata": {},
          "execution_count": 8
        }
      ]
    },
    {
      "cell_type": "code",
      "source": [
        "#Print the results\n",
        "print(f\"Your BMI is:{bmi:.2f}\")\n",
        "print(f\"Your BMI category is:{category}\")"
      ],
      "metadata": {
        "colab": {
          "base_uri": "https://localhost:8080/"
        },
        "id": "6rwx3x6BlAJc",
        "outputId": "2b33dd7e-173d-4572-8725-26f973d96e33"
      },
      "execution_count": null,
      "outputs": [
        {
          "output_type": "stream",
          "name": "stdout",
          "text": [
            "Your BMI is:23.80\n",
            "Your BMI category is:Normal Weight\n"
          ]
        }
      ]
    },
    {
      "cell_type": "code",
      "source": [],
      "metadata": {
        "id": "U5vUXD-XlgR1"
      },
      "execution_count": null,
      "outputs": []
    }
  ]
}